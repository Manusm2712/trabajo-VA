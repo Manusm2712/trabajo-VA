{
 "cells": [
  {
   "cell_type": "markdown",
   "metadata": {},
   "source": [
    "# **Clasificación de frutas por su madurez**\n",
    "\n",
    "## Visión Artificial - Semestre 2024-2\n",
    "\n",
    "### **Integrantes**\n",
    "\n",
    "\n",
    "*   Juan José Cañas - jcanast@unal.edu.co - CC1025883703\n",
    "*   "
   ]
  },
  {
   "cell_type": "markdown",
   "metadata": {},
   "source": [
    "### **Descripción del dataset**\n",
    "\n",
    "\"introducir labia\"\n",
    "\n",
    "https://universe.roboflow.com/roboflow-universe-projects/banana-ripeness-classification/browse?queryText=&pageSize=50&startingIndex=0&browseQuery=true\n",
    "\n",
    "Este dataset consta de 5616 imágenes de 640 x 480 pixeles en canales RGB."
   ]
  },
  {
   "cell_type": "code",
   "execution_count": null,
   "metadata": {},
   "outputs": [],
   "source": [
    "#importamos librerias\n",
    "import cv2\n",
    "from matplotlib import pyplot as plt\n",
    "import numpy as np\n",
    "from IPython.display import Image\n",
    "from skimage import morphology, measure\n",
    "import csv\n",
    "import os"
   ]
  },
  {
   "cell_type": "markdown",
   "metadata": {},
   "source": []
  },
  {
   "cell_type": "code",
   "execution_count": null,
   "metadata": {},
   "outputs": [],
   "source": [
    "#Se cargaran algunas imágenes de la carpeta Positive (con grietas) para mostrar sus diferencias, se deben pasar a RGB para poder visualizarlas correctamente, esto se hace con ayuda de la función COLOR_BGR2RGB de OpenCV\n",
    "mue1=cv2.cvtColor(cv2.imread(\"res/Positive/00001.jpg\"),cv2.COLOR_BGR2RGB)\n",
    "mue2=cv2.cvtColor(cv2.imread(\"res/Positive/00049.jpg\"),cv2.COLOR_BGR2RGB)\n",
    "mue3=cv2.cvtColor(cv2.imread(\"res/Positive/00089.jpg\"),cv2.COLOR_BGR2RGB)\n",
    "mue4=cv2.cvtColor(cv2.imread(\"res/Positive/00146.jpg\"),cv2.COLOR_BGR2RGB)\n",
    "mue5=cv2.cvtColor(cv2.imread(\"res/Positive/00889.jpg\"),cv2.COLOR_BGR2RGB)\n",
    "mue6=cv2.cvtColor(cv2.imread(\"res/Positive/01102.jpg\"),cv2.COLOR_BGR2RGB)\n",
    "mue7=cv2.cvtColor(cv2.imread(\"res/Positive/01094.jpg\"),cv2.COLOR_BGR2RGB)\n",
    "mue8=cv2.cvtColor(cv2.imread(\"res/Positive/01564.jpg\"),cv2.COLOR_BGR2RGB)\n",
    "\n",
    "#Se crea un arreglo 2 x 4 para mostrar las imágenes\n",
    "fig1, arreglo_plots = plt.subplots(2,4, figsize=(15, 15))\n",
    "fig1.suptitle('Imágenes de referencia', fontsize=20)\n",
    "#Se asigna la imagen que va a ir en cada casilla del arreglo\n",
    "arreglo_plots[0,0].set_title('Imagen 1')\n",
    "arreglo_plots[0,0].imshow(mue1)\n",
    "arreglo_plots[0,1].set_title('Imagen 2')\n",
    "arreglo_plots[0,1].imshow(mue2)\n",
    "arreglo_plots[0,2].set_title('Imagen 3')\n",
    "arreglo_plots[0,2].imshow(mue3)\n",
    "arreglo_plots[0,3].set_title('Imagen 4')\n",
    "arreglo_plots[0,3].imshow(mue4)\n",
    "arreglo_plots[1,0].set_title('Imagen 5')\n",
    "arreglo_plots[1,0].imshow(mue5)\n",
    "arreglo_plots[1,1].set_title('Imagen 6')\n",
    "arreglo_plots[1,1].imshow(mue6)\n",
    "arreglo_plots[1,2].set_title('Imagen 7')\n",
    "arreglo_plots[1,2].imshow(mue7)\n",
    "arreglo_plots[1,3].set_title('Imagen 8')\n",
    "arreglo_plots[1,3].imshow(mue8)"
   ]
  }
 ],
 "metadata": {
  "kernelspec": {
   "display_name": "Python 3",
   "language": "python",
   "name": "python3"
  },
  "language_info": {
   "codemirror_mode": {
    "name": "ipython",
    "version": 3
   },
   "file_extension": ".py",
   "mimetype": "text/x-python",
   "name": "python",
   "nbconvert_exporter": "python",
   "pygments_lexer": "ipython3",
   "version": "3.11.9"
  }
 },
 "nbformat": 4,
 "nbformat_minor": 2
}
